{
 "cells": [
  {
   "cell_type": "code",
   "execution_count": 2,
   "id": "d6f30529",
   "metadata": {},
   "outputs": [],
   "source": [
    "#Ques:  What is Python, and why is it popular?\n",
    "\n",
    "# Python is a high level interpreted programming language, it was developed by Guido van in 1989.It is so popular because it is \n",
    "# widely used for Web development,Data Analysis, Machine Learning and more. SInce python is a high level language it is very \n",
    "# easy to understand. It is a open source language and widely available free of cost . being an open source language it has a \n",
    "# very large World Wide community of developers where any one can contribute their code new findings/ functions/packages/libraries \n",
    "# with others so that others can also get benefited. Due to its large community python has more than one lakh libraries.\n"
   ]
  },
  {
   "cell_type": "code",
   "execution_count": 4,
   "id": "b283aa48",
   "metadata": {},
   "outputs": [],
   "source": [
    "#Ques: What is an interpreter in Python? \n",
    "\n",
    "# Interpreter is a python programme which converts python code into machine language and executes it at runtime.\n",
    "# Interpreter reads the code line by line and stops interpreting at the first error it encounter.\n",
    "# it is slow in comparison with the compiled languages like c,c++."
   ]
  },
  {
   "cell_type": "code",
   "execution_count": 5,
   "id": "1336d7cb",
   "metadata": {},
   "outputs": [],
   "source": [
    "# Ques What are pre-defined keywords in Python ?\n",
    "\n",
    "# Pre-defined keywords are those words which are already reserved in python by developers and has their special meaning \n",
    "# and purpose. We can not use pre-defined key words as variable name because it will affect their functionality.\n",
    "# Example Print() => This function is used to print anything inside parenthesis\n",
    "# def => this keyword is used to define a function in python"
   ]
  },
  {
   "cell_type": "code",
   "execution_count": 6,
   "id": "4e3b38b2",
   "metadata": {},
   "outputs": [],
   "source": [
    "#Ques: Can keywords be used as variable names ?\n",
    "\n",
    "# No, Keywords can not be used as variable name, because they have their special meaning and function in python.\n",
    "# Example: While, for , if , else etc\n"
   ]
  },
  {
   "cell_type": "code",
   "execution_count": 8,
   "id": "0869a88b",
   "metadata": {},
   "outputs": [
    {
     "data": {
      "text/plain": [
       "[1, 50, 3, 'ABC']"
      ]
     },
     "execution_count": 8,
     "metadata": {},
     "output_type": "execute_result"
    }
   ],
   "source": [
    "#Ques: What is mutability in Python?\n",
    "\n",
    "# In python we have different type of in built data types some of them are List, Touple,Set,Dictonary,String,int,float etc\n",
    "# Mutability means once a variable is created with xyz data type whether its value can be modified again or not.\n",
    "\n",
    "# Example List,set,Dictonary is mutable where we can change/modify variables values even after its creation.\n",
    "# Tuple,String is a immutable data type.\n",
    "\n",
    "lis=[1,2,3,'ABC']\n",
    "lis[1]=50\n",
    "lis"
   ]
  },
  {
   "cell_type": "code",
   "execution_count": 10,
   "id": "c4b800e8",
   "metadata": {},
   "outputs": [
    {
     "ename": "TypeError",
     "evalue": "'tuple' object does not support item assignment",
     "output_type": "error",
     "traceback": [
      "\u001b[1;31m---------------------------------------------------------------------------\u001b[0m",
      "\u001b[1;31mTypeError\u001b[0m                                 Traceback (most recent call last)",
      "Input \u001b[1;32mIn [10]\u001b[0m, in \u001b[0;36m<cell line: 16>\u001b[1;34m()\u001b[0m\n\u001b[0;32m     13\u001b[0m lis\n\u001b[0;32m     15\u001b[0m tup\u001b[38;5;241m=\u001b[39m(\u001b[38;5;241m1\u001b[39m,\u001b[38;5;241m2\u001b[39m,\u001b[38;5;241m3\u001b[39m)\n\u001b[1;32m---> 16\u001b[0m tup[\u001b[38;5;241m0\u001b[39m]\u001b[38;5;241m=\u001b[39m\u001b[38;5;241m1\u001b[39m\n\u001b[0;32m     17\u001b[0m tup\n",
      "\u001b[1;31mTypeError\u001b[0m: 'tuple' object does not support item assignment"
     ]
    }
   ],
   "source": [
    "#Ques: Why are lists mutable, but tuples are immutable?\n",
    "\n",
    "# List is mutable because once create a variable with list type we can add/delete/modify its content.\n",
    "# List is used when the data is expected to change Ex: Address of house\n",
    "\n",
    "# Tuples are immutable because once created its content can not be modified/updated.\n",
    "# It is used where data is fixed and is not going to change like AADHAR Card number\n",
    "\n",
    "#Syntax: list  => a=[1,2,3,4]\n",
    "#        tuple => a=(1,2,3,4)\n",
    "\n",
    "lis=[1,2,3,'ABC']\n",
    "lis[1]=50\n",
    "lis\n",
    "\n",
    "tup=(1,2,3)\n",
    "tup[0]=1\n",
    "tup"
   ]
  },
  {
   "cell_type": "code",
   "execution_count": 22,
   "id": "653a5ab3",
   "metadata": {},
   "outputs": [
    {
     "name": "stdout",
     "output_type": "stream",
     "text": [
      "1682470956880 1682471145584\n",
      "1682470955440 1682470955440\n"
     ]
    }
   ],
   "source": [
    "#Ques: What is the difference between “==” and “is” operators in Python?\n",
    "\n",
    "# \"==\" & \"is\" both are identity operators, but both are used for different purpose\n",
    "\n",
    "# '==' checks for the value of two variables, like whether the value of two variables are same or not\n",
    "# Example \n",
    "a=50\n",
    "b=50\n",
    "a==b   # Output is True\n",
    "\n",
    "\n",
    "\n",
    "# \"is\" operator is used to check for the memory location of two variables, whether two variables are pointing the same memory \n",
    "# location or not.\n",
    "# Example\n",
    "c=50\n",
    "d=57\n",
    "c is d # output is false: because the memory location of both the variables are different\n",
    "\n",
    "\n",
    "# Example\n",
    "x=5\n",
    "y=x\n",
    "\n",
    "x is y # Output is True: because both the variables are now pointing the same memory location\n",
    "\n",
    "# We can also check the address of these variables by using id() function\n",
    "\n",
    "print(id(c),id(d))\n",
    "print(id(x),id(y))"
   ]
  },
  {
   "cell_type": "code",
   "execution_count": 95,
   "id": "8e62ed73",
   "metadata": {},
   "outputs": [
    {
     "data": {
      "text/plain": [
       "True"
      ]
     },
     "execution_count": 95,
     "metadata": {},
     "output_type": "execute_result"
    }
   ],
   "source": [
    "#Ques: What are logical operators in Python?\n",
    "\n",
    "# Logical operators are the operators which basically works on boolean values.\n",
    "# It works on multiple operands and conditions and gives us the output in True or False\n",
    "\n",
    "#Logical Operators are: and, or , not\n",
    "# and => in case of and both the conditions should be true to get final putpiut as true\n",
    "#        Example: \n",
    "15>6 and 6>2  # => both the cinditions should be true to successfully get the output\n",
    "\n",
    "# or => in case of or operator even if any one condition is True the final output becomes True\n",
    "# Example \n",
    "4>5 or 5>2\n",
    "\n",
    "# not => not will give us the just opposite of a statement\n",
    "#Example\n",
    "not (44>55)"
   ]
  },
  {
   "cell_type": "code",
   "execution_count": null,
   "id": "9d24236e",
   "metadata": {},
   "outputs": [],
   "source": [
    "#Ques: What is type casting in Python?\n",
    "\n",
    "# When we try to change the data type of any variable forcibly or automatically by the system it known as typecasting.\n",
    "# i.e changing the data type of any variable\n",
    "\n",
    "# Type casting is of two types:\n",
    "# Implicit and Explicit\n"
   ]
  },
  {
   "cell_type": "code",
   "execution_count": 38,
   "id": "1eae5625",
   "metadata": {},
   "outputs": [
    {
     "name": "stdout",
     "output_type": "stream",
     "text": [
      "9.2 <class 'float'>\n",
      "10 <class 'int'>\n"
     ]
    }
   ],
   "source": [
    "#Ques: What is the difference between implicit and explicit type casting?\n",
    "\n",
    "# Implicit type casting => is type of casting where python itself change the datatype of any variable as per the requirements without\n",
    "# any user interventions.\n",
    "# Example\n",
    "a=5   # int\n",
    "b=4.2 # FLoat\n",
    "c=a+b\n",
    "print(c,type(c)) # Float\n",
    "# Here, C is automatically converted into float variable by python.\n",
    "\n",
    "\n",
    "# Explicit => type casting is the one where user forcibly tries to convert the data type as per the requirement\n",
    "\n",
    "x=5\n",
    "y=int(5.5)\n",
    "z=x+y\n",
    "print(z,type(z))\n"
   ]
  },
  {
   "cell_type": "code",
   "execution_count": 45,
   "id": "223a5b5d",
   "metadata": {},
   "outputs": [
    {
     "name": "stdout",
     "output_type": "stream",
     "text": [
      "Yes\n",
      "Yes\n",
      "Enter your namerohit\n",
      "Yes, Length is 5\n",
      "a is greater than 80\n",
      "a is even number\n"
     ]
    }
   ],
   "source": [
    "#Ques What is the purpose of conditional statements in Python ?\n",
    "\n",
    "# Conditional statements are used to controll the flow of the programme as per requirement and to perform different task on different\n",
    "# conditions based on whether the condition is True or False.\n",
    "\n",
    "# We have different kind of conditional statements like:\n",
    "\n",
    "# if\n",
    "\n",
    "if len('rohit')==5:\n",
    "    print('Yes')\n",
    "    \n",
    "# if-else\n",
    "\n",
    "if len('rohit')==5:\n",
    "    print('Yes')\n",
    "else:\n",
    "    print('No')\n",
    "    \n",
    "    \n",
    "# if-elif-else\n",
    "a=input('Enter your name')\n",
    "if len(a)==5:\n",
    "    print('Yes, Length is 5')\n",
    "elif len(a)>5 and len(a)<10:\n",
    "    print(\"Length is grater than 5 and less than 10\")\n",
    "else:\n",
    "    print(\"Else part executed\")\n",
    "\n",
    "# nested if => if-if\n",
    "\n",
    "a=100\n",
    "if a>80:\n",
    "    print(\"a is greater than 80\")\n",
    "    if a%2==0:\n",
    "        print('a is even number')"
   ]
  },
  {
   "cell_type": "code",
   "execution_count": 47,
   "id": "9132644f",
   "metadata": {},
   "outputs": [
    {
     "name": "stdout",
     "output_type": "stream",
     "text": [
      "Tuesday\n"
     ]
    }
   ],
   "source": [
    "#Ques How does the elif statement work ?\n",
    "\n",
    "# Elif statement is used to give multiple conditions in a programme.\n",
    "# if first condition didn't met, it will go to the next condition and so on\n",
    "\n",
    "# Example\n",
    "a=2\n",
    "\n",
    "if a==1:\n",
    "    print('Monday')\n",
    "elif a==2:\n",
    "    print('Tuesday')\n",
    "elif a==3:\n",
    "    print('Wednesday')\n",
    "else:\n",
    "    print('Sunday')\n"
   ]
  },
  {
   "cell_type": "code",
   "execution_count": 58,
   "id": "37378ce7",
   "metadata": {},
   "outputs": [
    {
     "name": "stdout",
     "output_type": "stream",
     "text": [
      "10\n",
      "20\n",
      "30\n",
      "40\n",
      "50\n",
      "60\n",
      "70\n",
      "80\n",
      "90\n",
      "100\n",
      "\n",
      "\n",
      "10\n",
      "20\n",
      "30\n",
      "40\n",
      "50\n",
      "60\n",
      "70\n",
      "80\n",
      "90\n",
      "100\n"
     ]
    }
   ],
   "source": [
    "#Ques What is the difference between for and while loops ?\n",
    "\n",
    "# We can use loops to perform repeatitive task\n",
    "# Both for loop and while loop are flow controll statement in python.\n",
    "\n",
    "# for loop is used when we already know the number of iterations\n",
    "# while loop is used when we don't have information about the number of iterations. it will stop when condition beacome false\n",
    "# in for loop no need to initialize any counter, but in while loop initializing counter is must\n",
    "# in for loop counter automatically get updated but in while loop we need to manually update the counter using code.\n",
    "# Example\n",
    "\n",
    "for i in range(1,11):\n",
    "    print(i*10)\n",
    "\n",
    "print('\\n')\n",
    "    \n",
    "x=1\n",
    "while x<11:\n",
    "    print(x*10)\n",
    "    x+=1"
   ]
  },
  {
   "cell_type": "code",
   "execution_count": 59,
   "id": "b805d0d3",
   "metadata": {},
   "outputs": [],
   "source": [
    "# #Ques Describe a scenario where a while loop is more suitable than a for loop?\n",
    "\n",
    "# If we take the example of logging-in to a website:\n",
    "# While loop is best for this scenario because everytime it doesn't happen like user enters the correct username and password\n",
    "# in the one go. It might take several attempts too, so untill user enters the correct password the loop should run continously.\n",
    "# here we don't know the number of iteration needed to the user to enter the correct login details.\n",
    "\n",
    "# Another Example\n",
    "# ATM Machine => While loop is used in ATM machine bacause once user loggedin to his/her account using cards, machine doesn't know\n",
    "# that how many times the user user will perform the transaction, it might be one,or two or three and so on.\n",
    "# So, while loop will be the best fit for this condition\n"
   ]
  },
  {
   "cell_type": "code",
   "execution_count": null,
   "id": "7eb16f33",
   "metadata": {},
   "outputs": [],
   "source": []
  },
  {
   "cell_type": "code",
   "execution_count": null,
   "id": "7517a014",
   "metadata": {},
   "outputs": [],
   "source": []
  },
  {
   "cell_type": "markdown",
   "id": "1be698a0",
   "metadata": {},
   "source": [
    "### Practical Question"
   ]
  },
  {
   "cell_type": "code",
   "execution_count": 60,
   "id": "3ae8d3b8",
   "metadata": {},
   "outputs": [
    {
     "name": "stdout",
     "output_type": "stream",
     "text": [
      "Hello, World! \n"
     ]
    }
   ],
   "source": [
    "#1 Write a Python program to print \"Hello, World!?\n",
    "print(\"Hello, World! \")\n"
   ]
  },
  {
   "cell_type": "code",
   "execution_count": 61,
   "id": "577d3730",
   "metadata": {},
   "outputs": [
    {
     "name": "stdout",
     "output_type": "stream",
     "text": [
      "Enter your nameRohit\n",
      "Enter your age26\n",
      "Rohit 26\n"
     ]
    }
   ],
   "source": [
    "#2 Write a Python program that displays your name and age?\n",
    "\n",
    "name=input(\"Enter your name\")\n",
    "age=int(input(\"Enter your age\"))\n",
    "\n",
    "print(name,age)\n"
   ]
  },
  {
   "cell_type": "code",
   "execution_count": 70,
   "id": "4ff8b94a",
   "metadata": {},
   "outputs": [
    {
     "name": "stdout",
     "output_type": "stream",
     "text": [
      "\n",
      "Here is a list of the Python keywords.  Enter any keyword to get more help.\n",
      "\n",
      "False               break               for                 not\n",
      "None                class               from                or\n",
      "True                continue            global              pass\n",
      "__peg_parser__      def                 if                  raise\n",
      "and                 del                 import              return\n",
      "as                  elif                in                  try\n",
      "assert              else                is                  while\n",
      "async               except              lambda              with\n",
      "await               finally             nonlocal            yield\n",
      "\n"
     ]
    }
   ],
   "source": [
    "#3 Write code to print all the pre-defined keywords in Python using the keyword library?\n",
    "help('keywords')"
   ]
  },
  {
   "cell_type": "code",
   "execution_count": 84,
   "id": "a6f1a3d6",
   "metadata": {},
   "outputs": [
    {
     "name": "stdout",
     "output_type": "stream",
     "text": [
      "ENter a word break\n",
      "Yes, Given word is a keyword\n"
     ]
    }
   ],
   "source": [
    "#4 Write a program that checks if a given word is a Python keyword.\n",
    "import keyword\n",
    "\n",
    "a=input(\"ENter a word \")\n",
    "if keyword.iskeyword(a)==True:\n",
    "    print(\"Yes, Given word is a keyword\")\n",
    "else:\n",
    "    print(\"No,\",a,\" is not a keyword\")"
   ]
  },
  {
   "cell_type": "code",
   "execution_count": null,
   "id": "2bbf3446",
   "metadata": {},
   "outputs": [],
   "source": []
  },
  {
   "cell_type": "code",
   "execution_count": 89,
   "id": "c4c6da83",
   "metadata": {},
   "outputs": [
    {
     "data": {
      "text/plain": [
       "[55, 2, 3, 4]"
      ]
     },
     "execution_count": 89,
     "metadata": {},
     "output_type": "execute_result"
    }
   ],
   "source": [
    "#5 Create a list and tuple in Python, and demonstrate how attempting to change an element works differently for each?\n",
    "\n",
    "# List\n",
    "li=[1,2,3,4]\n",
    "li[0]=55\n",
    "li\n"
   ]
  },
  {
   "cell_type": "code",
   "execution_count": 90,
   "id": "4d3d12d3",
   "metadata": {},
   "outputs": [
    {
     "ename": "TypeError",
     "evalue": "'tuple' object does not support item assignment",
     "output_type": "error",
     "traceback": [
      "\u001b[1;31m---------------------------------------------------------------------------\u001b[0m",
      "\u001b[1;31mTypeError\u001b[0m                                 Traceback (most recent call last)",
      "Input \u001b[1;32mIn [90]\u001b[0m, in \u001b[0;36m<cell line: 3>\u001b[1;34m()\u001b[0m\n\u001b[0;32m      1\u001b[0m \u001b[38;5;66;03m# Tuple\u001b[39;00m\n\u001b[0;32m      2\u001b[0m tup\u001b[38;5;241m=\u001b[39m(\u001b[38;5;241m1\u001b[39m,\u001b[38;5;241m2\u001b[39m,\u001b[38;5;241m3\u001b[39m,\u001b[38;5;241m4\u001b[39m)\n\u001b[1;32m----> 3\u001b[0m tup[\u001b[38;5;241m0\u001b[39m]\u001b[38;5;241m=\u001b[39m\u001b[38;5;241m1\u001b[39m\n\u001b[0;32m      4\u001b[0m tup\n",
      "\u001b[1;31mTypeError\u001b[0m: 'tuple' object does not support item assignment"
     ]
    }
   ],
   "source": [
    "# Tuple\n",
    "tup=(1,2,3,4)\n",
    "tup[0]=1\n",
    "tup"
   ]
  },
  {
   "cell_type": "code",
   "execution_count": null,
   "id": "939799d4",
   "metadata": {},
   "outputs": [],
   "source": []
  },
  {
   "cell_type": "code",
   "execution_count": 91,
   "id": "3bf6a6ef",
   "metadata": {},
   "outputs": [],
   "source": [
    "#6 Write a function to demonstrate the behavior of mutable and immutable arguments.\n",
    "\n",
    "# lis="
   ]
  },
  {
   "cell_type": "code",
   "execution_count": null,
   "id": "3fc4bcb2",
   "metadata": {},
   "outputs": [],
   "source": []
  },
  {
   "cell_type": "code",
   "execution_count": 92,
   "id": "770052b3",
   "metadata": {},
   "outputs": [
    {
     "name": "stdout",
     "output_type": "stream",
     "text": [
      "ENter a number50\n",
      "ENter a number40\n",
      "90\n",
      "10\n"
     ]
    }
   ],
   "source": [
    "#7. Write a program that performs basic arithmetic operations on two user-input numbers.\n",
    "a=int(input(\"ENter a number\"))\n",
    "b=int(input(\"ENter a number\"))\n",
    "print(a+b)\n",
    "print(a-b)"
   ]
  },
  {
   "cell_type": "code",
   "execution_count": 118,
   "id": "9d44e27e",
   "metadata": {},
   "outputs": [
    {
     "name": "stdout",
     "output_type": "stream",
     "text": [
      "Enter your age: 26\n",
      "Do you have Voter id\n",
      "Yes/no: yes\n",
      "Hurray!!, You are eligible to vote\n"
     ]
    }
   ],
   "source": [
    "#8. Write a program to demonstrate the use of logical operators.\n",
    "# We have three types of logical operators => and, or , not\n",
    "\n",
    "# and\n",
    "age=int(input(\"Enter your age: \"))\n",
    "print(\"Do you have Voter id\")\n",
    "voter_id=input(\"Yes/no: \")\n",
    "\n",
    "if age>18 and voter_id=='yes'or voter_id=='Yes' or voter_id=='YES':\n",
    "    print(\"Hurray!!, You are eligible to vote\")    \n",
    "# or \n",
    "elif age>18 or voter_id=='no':\n",
    "    print(\"You are not eligible to vote. Either your age or ID is missing.\")\n"
   ]
  },
  {
   "cell_type": "code",
   "execution_count": 120,
   "id": "82eb8cc8",
   "metadata": {},
   "outputs": [
    {
     "data": {
      "text/plain": [
       "False"
      ]
     },
     "execution_count": 120,
     "metadata": {},
     "output_type": "execute_result"
    }
   ],
   "source": [
    "# not \n",
    "\n",
    "not 55>45"
   ]
  },
  {
   "cell_type": "code",
   "execution_count": 128,
   "id": "954d9a3f",
   "metadata": {},
   "outputs": [
    {
     "name": "stdout",
     "output_type": "stream",
     "text": [
      "Enter any number 50\n",
      "\n",
      "\n",
      "Integer of 50 is 50\n",
      "Float of 50 is 50.0\n",
      "Boolean of 50 is True\n"
     ]
    }
   ],
   "source": [
    "#9. Write a Python program to convert user input from string to integer, float, and boolean types.\n",
    "\n",
    "x=input(\"Enter any number \")\n",
    "print('\\n')\n",
    "print(\"Integer of\",x,\"is\",int(x))\n",
    "print(\"Float of\",x,\"is\",float(x))\n",
    "print(\"Boolean of\",x,\"is\",bool(x))"
   ]
  },
  {
   "cell_type": "code",
   "execution_count": 131,
   "id": "1f07ee37",
   "metadata": {},
   "outputs": [
    {
     "name": "stdout",
     "output_type": "stream",
     "text": [
      "10\n",
      "10.0\n",
      "10\n",
      "10.5\n",
      "8\n",
      "8.0\n",
      "8\n",
      "8.8\n"
     ]
    }
   ],
   "source": [
    "#10. Write code to demonstrate type casting with list elements.\n",
    "\n",
    "lis=[10,10.5,8,8.8]\n",
    "\n",
    "for i in lis:\n",
    "    print(int(i))\n",
    "    print(float(i))"
   ]
  },
  {
   "cell_type": "code",
   "execution_count": 134,
   "id": "91e9770f",
   "metadata": {},
   "outputs": [
    {
     "name": "stdout",
     "output_type": "stream",
     "text": [
      "Enter a number0\n",
      "Given number is Zero\n"
     ]
    }
   ],
   "source": [
    "#11. Write a program that checks if a number is positive, negative, or zero.\n",
    "\n",
    "a=int(input(\"Enter a number\"))\n",
    "\n",
    "if a>0:\n",
    "    print(\"Number is positive\")\n",
    "elif a<0:\n",
    "    print(\"Number is negative\")\n",
    "elif a==0:\n",
    "    print(\"Given number is Zero\")"
   ]
  },
  {
   "cell_type": "code",
   "execution_count": 138,
   "id": "fe1fe4c5",
   "metadata": {},
   "outputs": [
    {
     "name": "stdout",
     "output_type": "stream",
     "text": [
      "1\n",
      "2\n",
      "3\n",
      "4\n",
      "5\n",
      "6\n",
      "7\n",
      "8\n",
      "9\n",
      "10\n"
     ]
    }
   ],
   "source": [
    "#12. Write a for loop to print numbers from 1 to 10.\n",
    "\n",
    "for i in range(1,11):\n",
    "    print(i)"
   ]
  },
  {
   "cell_type": "code",
   "execution_count": 142,
   "id": "6911fc6b",
   "metadata": {},
   "outputs": [
    {
     "name": "stdout",
     "output_type": "stream",
     "text": [
      "650\n"
     ]
    }
   ],
   "source": [
    "#13. Write a Python program to find the sum of all even numbers between 1 and 50.\n",
    "sum=0\n",
    "for i in range(1,51):\n",
    "    if i%2==0:\n",
    "        sum=sum+i\n",
    "print(sum)\n",
    "    "
   ]
  },
  {
   "cell_type": "code",
   "execution_count": 149,
   "id": "b60c92fb",
   "metadata": {},
   "outputs": [
    {
     "name": "stdout",
     "output_type": "stream",
     "text": [
      "enter some text: rohit\n",
      "t\n",
      "i\n",
      "h\n",
      "o\n",
      "r\n"
     ]
    }
   ],
   "source": [
    "#14. Write a program to reverse a string using a while loop.\n",
    "a=input('enter some text: ')\n",
    "b=len(a)\n",
    "while b>0:\n",
    "    print(a[b-1])\n",
    "    b-=1"
   ]
  },
  {
   "cell_type": "code",
   "execution_count": 161,
   "id": "13f4db1f",
   "metadata": {},
   "outputs": [
    {
     "name": "stdout",
     "output_type": "stream",
     "text": [
      "Enter a number4\n",
      "24\n"
     ]
    }
   ],
   "source": [
    "#15. Write a Python program to calculate the factorial of a number provided by the user using a while loop.\n",
    "\n",
    "x=int(input(\"Enter a number\"))\n",
    "fact=1\n",
    "i=1\n",
    "while  i<=x:\n",
    "    fact=fact*i\n",
    "    i+=1\n",
    "print(fact)\n"
   ]
  },
  {
   "cell_type": "code",
   "execution_count": null,
   "id": "52d91ed9",
   "metadata": {},
   "outputs": [],
   "source": []
  },
  {
   "cell_type": "code",
   "execution_count": null,
   "id": "e43600be",
   "metadata": {},
   "outputs": [],
   "source": []
  }
 ],
 "metadata": {
  "kernelspec": {
   "display_name": "Python 3 (ipykernel)",
   "language": "python",
   "name": "python3"
  },
  "language_info": {
   "codemirror_mode": {
    "name": "ipython",
    "version": 3
   },
   "file_extension": ".py",
   "mimetype": "text/x-python",
   "name": "python",
   "nbconvert_exporter": "python",
   "pygments_lexer": "ipython3",
   "version": "3.9.12"
  }
 },
 "nbformat": 4,
 "nbformat_minor": 5
}
